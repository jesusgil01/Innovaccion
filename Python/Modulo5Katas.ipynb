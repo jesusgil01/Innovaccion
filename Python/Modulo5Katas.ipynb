{
 "cells": [
  {
   "cell_type": "code",
   "execution_count": null,
   "metadata": {},
   "outputs": [],
   "source": [
    "## Ejercicio1 - Utilizar operadores aritméticos"
   ]
  },
  {
   "cell_type": "code",
   "execution_count": 3,
   "metadata": {},
   "outputs": [
    {
     "name": "stdout",
     "output_type": "stream",
     "text": [
      "628949330\n",
      "390577533.93\n"
     ]
    }
   ],
   "source": [
    "planet1 = 149597870\n",
    "planet2 = 778547200\n",
    "\n",
    "distancekm = planet2 - planet1\n",
    "distancemi = distancekm * 0.621\n",
    "print(str(distancekm) + \"\\n\" + str(distancemi))"
   ]
  },
  {
   "cell_type": "markdown",
   "metadata": {},
   "source": [
    "##  Ejercicio 2: convierte cadenas en números y usa valores absolutos"
   ]
  },
  {
   "cell_type": "code",
   "execution_count": 5,
   "metadata": {},
   "outputs": [
    {
     "name": "stdout",
     "output_type": "stream",
     "text": [
      "2\n",
      "1.242\n"
     ]
    }
   ],
   "source": [
    "planet1 = input('¿Cuál es la distancia del primer planeta respecto al sol?')\n",
    "planet2 = input('¿Cuál es la distancia del segundo planeta respecto al sol?')\n",
    "\n",
    "distancekm = int(planet2) - int(planet1)\n",
    "distancemi = distancekm * 0.621\n",
    "print(str(distancekm) + \"\\n\" + str(distancemi))"
   ]
  }
 ],
 "metadata": {
  "interpreter": {
   "hash": "66d23ca4467e70a05b51e7168cfbe12e3dec8a3519dfcb904b919cc583908496"
  },
  "kernelspec": {
   "display_name": "Python 3.9.10 ('env': venv)",
   "language": "python",
   "name": "python3"
  },
  "language_info": {
   "codemirror_mode": {
    "name": "ipython",
    "version": 3
   },
   "file_extension": ".py",
   "mimetype": "text/x-python",
   "name": "python",
   "nbconvert_exporter": "python",
   "pygments_lexer": "ipython3",
   "version": "3.9.10"
  },
  "orig_nbformat": 4
 },
 "nbformat": 4,
 "nbformat_minor": 2
}
